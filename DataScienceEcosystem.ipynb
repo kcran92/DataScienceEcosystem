{
 "cells": [
  {
   "cell_type": "markdown",
   "id": "411ca818-5c76-4e90-9de7-a28a77bf8399",
   "metadata": {},
   "source": [
    "# Data Science Tools and Ecosystem"
   ]
  },
  {
   "cell_type": "markdown",
   "id": "b4935781-fc28-4fe9-928a-0564007ab045",
   "metadata": {},
   "source": [
    "## In this notebook, Data Science Tools and Ecosystem are summarized."
   ]
  },
  {
   "cell_type": "markdown",
   "id": "4e8820b0-f226-4ff4-9a4a-f5a2279e6e21",
   "metadata": {},
   "source": [
    "**Objectives:**\n",
    "* List popular languages for Data Science\n",
    "* List popular libraries for Data Science\n",
    "* List popular languages for Data Science"
   ]
  },
  {
   "cell_type": "markdown",
   "id": "8223299a-0b00-4a9a-89b7-7e3f1bf086ed",
   "metadata": {},
   "source": [
    "## Some of the popular languages that Data Scientists use are:\n",
    "1. Python\n",
    "2. R\n",
    "3. Julia\n",
    "4. Java"
   ]
  },
  {
   "cell_type": "markdown",
   "id": "b30e04d6-618b-4a69-804d-d16e3f26950a",
   "metadata": {},
   "source": [
    "## Some of the commonly used libraries used by Data Scientists include:\n",
    "1. Pandas\n",
    "2. Seaborn\n",
    "3. NumPy\n",
    "4. Matplotlib"
   ]
  },
  {
   "cell_type": "markdown",
   "id": "326c2c16-c053-4daf-9221-3c5a9c6320c4",
   "metadata": {},
   "source": [
    "| Data Science Tools |\n",
    "| -------------------|\n",
    "| RStudio |\n",
    "| Jupyter Notebook |\n",
    "| Anaconda |\n",
    "| Apache Spark |"
   ]
  },
  {
   "cell_type": "markdown",
   "id": "e7ec06aa-a050-479d-afe1-20de8fe6ec5d",
   "metadata": {},
   "source": [
    "### Below are a few examples of evaluating arithmetic expressions in Python:"
   ]
  },
  {
   "cell_type": "code",
   "execution_count": null,
   "id": "e7a682f1-80fe-46ee-85c1-4b6aefc240d0",
   "metadata": {},
   "outputs": [],
   "source": [
    "# This a simple arithmetic expression to mutiply then add integers\n",
    "(3*4)+5"
   ]
  },
  {
   "cell_type": "code",
   "execution_count": null,
   "id": "e9c71d6d-322c-44af-988c-161349eb50a7",
   "metadata": {},
   "outputs": [],
   "source": [
    "# This will convert 200 minutes to hours by diving by 60\n",
    "200/60"
   ]
  },
  {
   "cell_type": "markdown",
   "id": "f4062e15-1c19-4f11-967d-d0febff7e8cd",
   "metadata": {},
   "source": [
    "## Author\n",
    "Kristen Cranford"
   ]
  }
 ],
 "metadata": {
  "kernelspec": {
   "display_name": "Python 3 (ipykernel)",
   "language": "python",
   "name": "python3"
  },
  "language_info": {
   "codemirror_mode": {
    "name": "ipython",
    "version": 3
   },
   "file_extension": ".py",
   "mimetype": "text/x-python",
   "name": "python",
   "nbconvert_exporter": "python",
   "pygments_lexer": "ipython3",
   "version": "3.11.7"
  }
 },
 "nbformat": 4,
 "nbformat_minor": 5
}
